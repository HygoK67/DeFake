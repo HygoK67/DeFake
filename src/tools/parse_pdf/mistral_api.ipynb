{
 "cells": [
  {
   "cell_type": "code",
   "execution_count": null,
   "metadata": {},
   "outputs": [],
   "source": [
    "import os\n",
    "from mistralai import Mistral\n",
    "\n",
    "api_key = \"zdoj0CXuYD1JXWJTKvNAicpC0YOnLaak\"\n",
    "client = Mistral(api_key=api_key)\n"
   ]
  },
  {
   "cell_type": "code",
   "execution_count": 43,
   "metadata": {},
   "outputs": [],
   "source": [
    "def parse_pdf_offline(pdf_path):\n",
    "    uploaded_pdf = upload_pdf(pdf_path)\n",
    "    signed_url = client.files.get_signed_url(file_id=uploaded_pdf.id)\n",
    "    ocr_response = client.ocr.process(\n",
    "    model=\"mistral-ocr-latest\",\n",
    "        document={\n",
    "            \"type\": \"document_url\",\n",
    "            \"document_url\": signed_url.url,\n",
    "        },\n",
    "        include_image_base64=True\n",
    "    )\n",
    "    return ocr_response\n",
    "def upload_pdf(pdf_path):\n",
    "    uploaded_pdf = client.files.upload(\n",
    "        file={\n",
    "            \"file_name\": \"uploaded_file.pdf\",\n",
    "            \"content\": open(pdf_path, \"rb\"),\n",
    "        },\n",
    "        purpose=\"ocr\"\n",
    "    )  \n",
    "    return uploaded_pdf\n"
   ]
  },
  {
   "cell_type": "code",
   "execution_count": 44,
   "metadata": {},
   "outputs": [],
   "source": [
    "import base64\n",
    "def save_base64_image(base64_data, output_path='output_image.jpg'):\n",
    "    try:\n",
    "        if base64_data.startswith('data:image'):\n",
    "            base64_data = base64_data.split(',', 1)[1]\n",
    "        image_bytes = base64.b64decode(base64_data)\n",
    "        with open(output_path, 'wb') as f:\n",
    "            f.write(image_bytes)\n",
    "        print(f\"图片已保存到 {os.path.abspath(output_path)}\")\n",
    "    except Exception as e:\n",
    "        print(f\"保存图片时出错: {e}\")"
   ]
  },
  {
   "cell_type": "code",
   "execution_count": 36,
   "metadata": {},
   "outputs": [],
   "source": [
    "ocr_response = parse_pdf_offline(\"./2201.04234v3.pdf\")"
   ]
  },
  {
   "cell_type": "code",
   "execution_count": null,
   "metadata": {},
   "outputs": [],
   "source": [
    "import os\n",
    "for page in ocr_response.pages:    \n",
    "    print(page.dict().keys())\n",
    "    print(page.index)\n",
    "    images = page.dict()[\"images\"]\n",
    "    if images:\n",
    "        for image in images:\n",
    "            save_img_name = str(page.index) + \"-\" + image[\"id\"]\n",
    "            save_base64_image(image[\"image_base64\"], os.path.join(os.getcwd(),save_img_name ))"
   ]
  },
  {
   "cell_type": "code",
   "execution_count": null,
   "metadata": {},
   "outputs": [],
   "source": []
  }
 ],
 "metadata": {
  "kernelspec": {
   "display_name": "newEnv",
   "language": "python",
   "name": "python3"
  },
  "language_info": {
   "codemirror_mode": {
    "name": "ipython",
    "version": 3
   },
   "file_extension": ".py",
   "mimetype": "text/x-python",
   "name": "python",
   "nbconvert_exporter": "python",
   "pygments_lexer": "ipython3",
   "version": "undefined.undefined.undefined"
  }
 },
 "nbformat": 4,
 "nbformat_minor": 2
}
